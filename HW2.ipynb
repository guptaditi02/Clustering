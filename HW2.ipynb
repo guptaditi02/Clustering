{
 "cells": [
  {
   "cell_type": "markdown",
   "metadata": {},
   "source": [
    "# Unstructured Data Analytics HW2\n",
    "\n",
    "Name:Aditi Gupta\n",
    "\n",
    "Andrew ID:argupta\n",
    "\n",
    "Collaborators (if none, say \"none\"; do *not* leave this blank): ChatGPT, Class python notebooks, and class notes\n",
    "\n",
    "Reminder: you should not be sharing code."
   ]
  },
  {
   "cell_type": "markdown",
   "metadata": {},
   "source": [
    "## Question 1: Clustering emails using Gaussian Mixture Models [50 pts]"
   ]
  },
  {
   "cell_type": "markdown",
   "metadata": {},
   "source": [
    "For this problem, we will be analyzing emails taken from the [Enron Email Dataset](https://www.cs.cmu.edu/~enron/). We have already curated the data for you in the `data/enron` directory, with one file per email (so there is no need to redownload the dataset as it is already included in this homework zip archive). The dataset includes a combination of \"spam\" and \"ham\" emails. Spam emails are unsolicited messages intended to sell a product or scam users into providing personal information, while ham emails represent everything that is not spam.\n",
    "\n",
    "The language used in spam emails tends to be considerably different from typical business emails. Most spam filters leverage this difference in word frequencies to detect spam as it arrives and filter it out of email inboxes. We will use Gaussian Mixture Models (GMMs) to cluster the emails and attempt to identify groups of emails which are likely to be spam."
   ]
  },
  {
   "cell_type": "markdown",
   "metadata": {},
   "source": [
    "### Part A: Construct a list of processed documents [10 points]"
   ]
  },
  {
   "cell_type": "markdown",
   "metadata": {},
   "source": [
    "Provided below is a function that returns a document present in a file given a filename. The function performs some preprocessing to (1) remove punctuation, (2),(3) remove whitespace and (4) lowercase all words. Using the `make_word_list` function, construct a list of processed documents."
   ]
  },
  {
   "cell_type": "code",
   "execution_count": 39,
   "metadata": {},
   "outputs": [],
   "source": [
    "import re\n",
    "import string\n",
    "import codecs\n",
    "\n",
    "def make_word_list(path):\n",
    "    \n",
    "    with codecs.open(path, \"r\", encoding='utf-8', errors='ignore') as f:\n",
    "        corpus_text = f.read()\n",
    "\n",
    "    for c in string.punctuation:\n",
    "        corpus_text = corpus_text.replace(c, \"\")  # -- (1)\n",
    "    \n",
    "    text = re.sub(r'\\S*\\d\\S*', '', corpus_text) # -- (2)\n",
    "    text = re.sub(r'[^\\w\\s]', '', text)         # -- (3)\n",
    "    \n",
    "    text = text.lower().split()           # -- (4)         \n",
    "    \n",
    "    li = []\n",
    "    for token in text:\n",
    "        li.append(token)\n",
    "\n",
    "    return \" \".join(li)"
   ]
  },
  {
   "cell_type": "code",
   "execution_count": 40,
   "metadata": {},
   "outputs": [],
   "source": [
    "########################################################################\n",
    "######################### Write your code here #########################\n",
    "########################################################################\n",
    "import glob\n",
    "processed_documents=[]\n",
    "\n",
    "for file in glob.glob('./data/enron/*.txt'):\n",
    "    processed_documents.append(make_word_list(file))"
   ]
  },
  {
   "cell_type": "markdown",
   "metadata": {},
   "source": [
    "### Part B: Construct a document matrix [10 points]"
   ]
  },
  {
   "cell_type": "markdown",
   "metadata": {},
   "source": [
    "Next, construct a document matrix `X` as a matrix of [TF-IDF](https://en.wikipedia.org/wiki/Tf%E2%80%93idf) features for each document. TF-IDF features encode information about the word frequency within a document, weighted by the frequency of the same word for corpus as a whole.\n",
    "\n",
    "   - Use the `TfidfVectorizer` from [scikit-learn](http://scikit-learn.org/stable/modules/generated/sklearn.feature_extraction.text.TfidfVectorizer.html) to create the document matrix `X`.\n",
    "   - Set `min_df=50`; this drops words that don't occur in at least 50 documents.\n",
    "   - Set `stop_words=\"english\"` and `max_df=0.8` to filter out stop-words.\n",
    "   - Print the number of unique words in the vocabulary Hint: Look for the `vocabulary_` attribute in the `TfidfVectorizer` object after fitting the vectorizer to the data set. The vocabulary will also be needed in part (d)."
   ]
  },
  {
   "cell_type": "code",
   "execution_count": 41,
   "metadata": {},
   "outputs": [
    {
     "name": "stdout",
     "output_type": "stream",
     "text": [
      "Number of unique words in the vocabulary: 1680\n"
     ]
    }
   ],
   "source": [
    "########################################################################\n",
    "######################### Write your code here #########################\n",
    "########################################################################\n",
    "from sklearn.feature_extraction.text import TfidfVectorizer\n",
    "vectorizer = TfidfVectorizer(max_df=0.8,\n",
    "                                min_df=50,\n",
    "                                stop_words='english')\n",
    "X = vectorizer.fit_transform(processed_documents)\n",
    "#vectorizer.vocabulary_\n",
    "print(\"Number of unique words in the vocabulary:\", \\\n",
    "      len(vectorizer.vocabulary_))"
   ]
  },
  {
   "cell_type": "markdown",
   "metadata": {},
   "source": [
    "### Part C: Perform Clustering [10 points]"
   ]
  },
  {
   "cell_type": "markdown",
   "metadata": {},
   "source": [
    "Perform clustering on the document matrix `X` using GMMs. \n",
    "- Use the `GaussianMixture` module from [scikit-learn](http://scikit-learn.org/stable/modules/generated/sklearn.mixture.GaussianMixture.html) to cluster the documents.\n",
    "- Set the number of clusters (mixture components) to 3.\n",
    "- Print the number of documents assigned to each cluster."
   ]
  },
  {
   "cell_type": "code",
   "execution_count": 42,
   "metadata": {},
   "outputs": [
    {
     "name": "stdout",
     "output_type": "stream",
     "text": [
      "Cluster 0: 808 documents\n",
      "Cluster 1: 3881 documents\n",
      "Cluster 2: 482 documents\n"
     ]
    }
   ],
   "source": [
    "########################################################################\n",
    "######################### Write your code here #########################\n",
    "########################################################################\n",
    "from sklearn.mixture import GaussianMixture\n",
    "import matplotlib.pyplot as plt\n",
    "\n",
    "n_clusters=3\n",
    "gmm = GaussianMixture(n_components=n_clusters, max_iter=100, \\\n",
    "                      n_init=10,random_state=0)\n",
    "\n",
    "# Convert the sparse matrix X to a dense NumPy array\n",
    "X_dense = X.toarray()\n",
    "\n",
    "gmm.fit(X_dense)\n",
    "gmm_cluster_assignments = gmm.predict(X_dense)\n",
    "\n",
    "# Print the number of documents assigned to each cluster\n",
    "for cluster in range(n_clusters):\n",
    "    num_documents_in_cluster = len(gmm_cluster_assignments\\\n",
    "                                   [gmm_cluster_assignments == cluster])\n",
    "    print(f\"Cluster {cluster}: {num_documents_in_cluster} documents\")"
   ]
  },
  {
   "cell_type": "markdown",
   "metadata": {},
   "source": [
    "### Part D: Characterize the clusters [10 points]"
   ]
  },
  {
   "cell_type": "markdown",
   "metadata": {},
   "source": [
    "Now, we will attempt to characterize the clusters based on the frequency of spam-relevant words. \n",
    "- Select 3 \"spammy\" words from the vocabulary that you expect to occur frequently in spam emails and less frequently in normal business emails (e.g., 'click', 'www', 'offer'). Construct a list, `spam_indices`, storing the indices of the spammy words you selected in the vocabulary generated by `TfidfVectorizer`.\n",
    "- Select 3 \"hammy\" words from the vocabulary you think will occur frequently in business emails and infrequently in spam emails (e.g., 'meeting', 'attached', 'review'). Construct a list, `ham_indices`, storing the indices of the hammy words you selected in the vocabulary generated by `TfidfVectorizer`.\n",
    "- Use the function provided below, `plot_spam_words_by_cluster`, to plot the average TF-IDF features for your selected spammy words and hammy words for each cluster. The function takes the following parameters:\n",
    "    - `X` is a matrix of TF-IDF features (rows index documents, columns index terms).\n",
    "    - `predicted` is predicted cluster assignments returned by `GaussianMixture.predict()`\n",
    "    - `n_clusters` is the number of clusters. This should match the number of clusters from your GMM.\n",
    "    - `spam_indices` is a list of indices of spammy words in the vocabulary.\n",
    "    - `ham_indices` is a list of indices of hammy (typical business) words in the vocabulary."
   ]
  },
  {
   "cell_type": "code",
   "execution_count": 43,
   "metadata": {},
   "outputs": [],
   "source": [
    "def plot_spam_words_by_cluster(X, predicted, n_clusters, \\\n",
    "                               spam_indices, ham_indices):\n",
    "    import numpy as np\n",
    "    import matplotlib.pyplot as plt\n",
    "    \n",
    "    # Calculate mean TF-IDF features for each cluster\n",
    "    mean_tfidf_spam = []\n",
    "    mean_tfidf_ham = []\n",
    "    for spam in spam_indices:\n",
    "        mean_tfidf_spam.append([])\n",
    "    for ham in ham_indices:\n",
    "        mean_tfidf_ham.append([])\n",
    "    \n",
    "    for i in range(n_clusters):\n",
    "        for j, spam_idx in enumerate(spam_indices):\n",
    "            mean_tfidf_spam[j].append(X[predicted==i, spam_idx].mean())\n",
    "        for j, ham_idx in enumerate(ham_indices):\n",
    "            mean_tfidf_ham[j].append(X[predicted==i, ham_idx].mean())\n",
    "    \n",
    "    # Generate plot\n",
    "    fig, ax = plt.subplots()\n",
    "\n",
    "    ind = np.arange(n_clusters)    # the x locations for the groups\n",
    "    width = 0.10         # the width of the bars\n",
    "\n",
    "    # Plot spam bars\n",
    "    for i, val in enumerate(mean_tfidf_spam):\n",
    "        spam_bar = ax.bar(ind - (len(mean_tfidf_spam)-i-1)*width, \\\n",
    "                          val, width, color='r', bottom=0)\n",
    "\n",
    "    # Plot ham bars\n",
    "    for i, val in enumerate(mean_tfidf_ham):\n",
    "        ham_bar = ax.bar(ind + (len(mean_tfidf_ham)-i)*width, val, width,\n",
    "                color='y', bottom=0)\n",
    "\n",
    "    ax.set_title('Mean TF-IDF Features by Cluster for Spam-Relevant Words')\n",
    "    ax.set_xticks(ind + width / 2)\n",
    "    xticklabels = []\n",
    "    for i in range(n_clusters):\n",
    "        xticklabels.append('Cluster ' + str(i) + '\\n(n=' + \\\n",
    "                           str((predicted==i).sum()) + ')')\n",
    "    ax.set_xticklabels(xticklabels)\n",
    "\n",
    "    ax.legend((spam_bar[0], ham_bar[0]), ('Spammy words', 'Hammy words'))\n",
    "    ax.autoscale_view()\n",
    "    ax.set_ylabel('Mean TF-IDF')\n",
    "    plt.show()"
   ]
  },
  {
   "cell_type": "code",
   "execution_count": 44,
   "metadata": {},
   "outputs": [
    {
     "data": {
      "image/png": "[encoded data removed]",
      "text/plain": [
       "<Figure size 640x480 with 1 Axes>"
      ]
     },
     "metadata": {},
     "output_type": "display_data"
    }
   ],
   "source": [
    "########################################################################\n",
    "######################### Write your code here #########################\n",
    "########################################################################\n",
    "# Select 3 \"spammy\" words and 3 \"hammy\" words from the vocabulary\n",
    "spammy_words = ['click', 'win', 'offer']\n",
    "hammy_words = ['meeting', 'attached', 'review']\n",
    "\n",
    "# Create lists to store the indices of selected words in the vocabulary\n",
    "spam_indices = []\n",
    "ham_indices = []\n",
    "\n",
    "# Find the indices of the selected words in the vocabulary\n",
    "for word in spammy_words:\n",
    "    if word in vectorizer.vocabulary_:\n",
    "        spam_indices.append(vectorizer.vocabulary_[word])\n",
    "\n",
    "for word in hammy_words:\n",
    "    if word in vectorizer.vocabulary_:\n",
    "        ham_indices.append(vectorizer.vocabulary_[word])\n",
    "\n",
    "\n",
    "plot_spam_words_by_cluster(X,gmm_cluster_assignments, \\\n",
    "                           n_clusters, spam_indices, ham_indices)"
   ]
  },
  {
   "cell_type": "markdown",
   "metadata": {},
   "source": [
    "### Part E: Interpret results [10 points]"
   ]
  },
  {
   "cell_type": "markdown",
   "metadata": {},
   "source": [
    "From the plot generated in part (d), do any of the clusters correspond to spam emails, based on the frequency of spammy and hammy words? Do any of the clusters appear to correspond to typical business emails (ham)? \n",
    "\n",
    "Re-run your analysis with a different choice for the number of clusters in your GMM (e.g., `n_clusters=5` or `n_clusters=2`). How does changing the number of clusters affect your results? Does one choice of `n_clusters` appear better than another for locating clusters of spam emails?"
   ]
  },
  {
   "cell_type": "markdown",
   "metadata": {},
   "source": [
    "*** WRITE YOUR ANSWER HERE IN TEXT ***\n",
    "\n",
    "* n_clusters=3\n",
    "Based on the plot generated in part (d), it can be said that Cluster 0 corresponds to spam emails due to high mean TF-IDF of spammy words. There are some hammy words present but the mean TF-IDF of those words is less. \n",
    "And similarly based on high mean TF-IDF of hammy words in Cluster 2, it can be said that Cluster 2 corresponds to typical business emails (ham) though there are some spammy words with less mean TF-IDF.\n",
    "\n",
    "* n_clusters=2\n",
    "In this case, it can be said that Cluster 0 corresponds to spam emails due to high mean TF-IDF of spammy words and very low mean TF-IDF of hammy words. \n",
    "But nothing can be said about cluster 1. It has a mix of spammy words and hammy words, both having high mean TF-IDF. So, no cluster appears to correspond to typical business emails (ham).\n",
    "\n",
    "* n_clusters=5\n",
    "In this case, it can be seen from the graph that Cluster 4 has high mean TF-IDF of spammy words and 0 mean TF-IDF of hammy words. So, it can be said that Cluster 4 definitely corresponds to spam emails.\n",
    "Cluster 0 and 1 have high mean TF-IDF of spammy words but there are also some hammy words present with low mean TF-IDF. So they can be \n",
    "Cluster 2 and 3 have high mean TF-IDF of hammy words but there are also some spammy words present with low mean TF-IDF. \n",
    "\n",
    "How does changing the number of clusters affect your results? \n",
    "Increasing the number of clusters give a clear distinction between clusters that correspond to typical business emails (ham) and which correspond to spam emails. Whereas with number of clusters =2 the distinction is not very clear.\n",
    "\n",
    "Does one choice of `n_clusters` appear better than another for locating clusters of spam emails?\n",
    "Yes, n_clusters=5 is better than n_clusters=3 and n_clusters=2 for locating clusters of spam emails. "
   ]
  },
  {
   "cell_type": "code",
   "execution_count": 45,
   "metadata": {},
   "outputs": [
    {
     "name": "stdout",
     "output_type": "stream",
     "text": [
      "Cluster 0: 915 documents\n",
      "Cluster 1: 4256 documents\n"
     ]
    },
    {
     "data": {
      "image/png": "[encoded data removed]",
      "text/plain": [
       "<Figure size 640x480 with 1 Axes>"
      ]
     },
     "metadata": {},
     "output_type": "display_data"
    }
   ],
   "source": [
    "########################################################################\n",
    "######################### Write your code here #########################\n",
    "########################################################################\n",
    "n_clusters=2\n",
    "gmm = GaussianMixture(n_components=n_clusters, max_iter=100, n_init=10,\\\n",
    "                      random_state=0)\n",
    "\n",
    "# Convert the sparse matrix X to a dense NumPy array\n",
    "X_dense = X.toarray()\n",
    "\n",
    "gmm.fit(X_dense)\n",
    "gmm_cluster_assignments = gmm.predict(X_dense)\n",
    "\n",
    "# Print the number of documents assigned to each cluster\n",
    "for cluster in range(n_clusters):\n",
    "    num_documents_in_cluster = len(gmm_cluster_assignments\\\n",
    "                                   [gmm_cluster_assignments == cluster])\n",
    "    print(f\"Cluster {cluster}: {num_documents_in_cluster} documents\")\n",
    "\n",
    "plot_spam_words_by_cluster(X,gmm_cluster_assignments, \\\n",
    "                           n_clusters, spam_indices, ham_indices)\n"
   ]
  },
  {
   "cell_type": "code",
   "execution_count": 46,
   "metadata": {},
   "outputs": [
    {
     "name": "stdout",
     "output_type": "stream",
     "text": [
      "Cluster 0: 581 documents\n",
      "Cluster 1: 2890 documents\n",
      "Cluster 2: 324 documents\n",
      "Cluster 3: 1111 documents\n",
      "Cluster 4: 265 documents\n"
     ]
    },
    {
     "data": {
      "image/png": "[encoded data removed]",
      "text/plain": [
       "<Figure size 640x480 with 1 Axes>"
      ]
     },
     "metadata": {},
     "output_type": "display_data"
    }
   ],
   "source": [
    "########################################################################\n",
    "######################### Write your code here #########################\n",
    "########################################################################\n",
    "n_clusters=5\n",
    "gmm = GaussianMixture(n_components=n_clusters, max_iter=100, \\\n",
    "                      n_init=10,random_state=0)\n",
    "\n",
    "# Convert the sparse matrix X to a dense NumPy array\n",
    "X_dense = X.toarray()\n",
    "\n",
    "gmm.fit(X_dense)\n",
    "gmm_cluster_assignments = gmm.predict(X_dense)\n",
    "\n",
    "# Print the number of documents assigned to each cluster\n",
    "for cluster in range(n_clusters):\n",
    "    num_documents_in_cluster = len(gmm_cluster_assignments\\\n",
    "                                   [gmm_cluster_assignments == cluster])\n",
    "    print(f\"Cluster {cluster}: {num_documents_in_cluster} documents\")\n",
    "\n",
    "plot_spam_words_by_cluster(X,gmm_cluster_assignments, \\\n",
    "                           n_clusters, spam_indices, ham_indices)"
   ]
  },
  {
   "cell_type": "markdown",
   "metadata": {},
   "source": [
    "## Question 2: Latent \"Purposes\" in Mobile Apps [45 points]\n",
    "\n",
    "\n",
    "Think of Android applications as \"documents\", where \"words\" are the \"permissions\" that each app requests. Each app has a set of latent \"purposes\" (topics); a \"purpose\" may be a specific task (such as taking photographs and uploading them to the internet), and an application may have a mixture of purposes of varying strength.\n",
    "\n",
    "Can we uncover these purposes from a dataset of Android applications and the permissions they request?"
   ]
  },
  {
   "cell_type": "code",
   "execution_count": 47,
   "metadata": {},
   "outputs": [],
   "source": [
    "import numpy as np\n",
    "import matplotlib.pyplot as plt\n",
    "import pandas as pd\n",
    "%matplotlib inline"
   ]
  },
  {
   "cell_type": "markdown",
   "metadata": {},
   "source": [
    "### Part A: Load the data [0 points]"
   ]
  },
  {
   "cell_type": "markdown",
   "metadata": {},
   "source": [
    "The [dataset](http://www.mariofrank.net/andrApps/) contains ~180,000 applications from the Android app store, including each app's name, description and permissions requested. For more about Android app permissions, see [this report](http://www.pewinternet.org/2015/11/10/an-analysis-of-android-app-permissions/).\n",
    "\n",
    "   * Download the data and unzip it into the same folder as this notebook.\n",
    "   * Rename the CSV file to \"android.csv\".\n",
    "   * Run the cells below to load the data into the notebook.\n",
    "\n",
    "This may take up ~2GB of RAM."
   ]
  },
  {
   "cell_type": "code",
   "execution_count": 48,
   "metadata": {},
   "outputs": [],
   "source": [
    "df = pd.read_csv(\"android.csv\", sep=\",\",  thousands=\",\")"
   ]
  },
  {
   "cell_type": "code",
   "execution_count": 49,
   "metadata": {},
   "outputs": [],
   "source": [
    "df[\"Number of ratings\"] = df[\"Number of ratings\"].astype(int) \n",
    "# fix data type\n",
    "df = df.drop_duplicates(subset=[\"App\"]).reset_index(drop=True)"
   ]
  },
  {
   "cell_type": "code",
   "execution_count": 50,
   "metadata": {},
   "outputs": [
    {
     "data": {
      "text/html": [
       "<div>\n",
       "<style scoped>\n",
       "    .dataframe tbody tr th:only-of-type {\n",
       "        vertical-align: middle;\n",
       "    }\n",
       "\n",
       "    .dataframe tbody tr th {\n",
       "        vertical-align: top;\n",
       "    }\n",
       "\n",
       "    .dataframe thead th {\n",
       "        text-align: right;\n",
       "    }\n",
       "</style>\n",
       "<table border=\"1\" class=\"dataframe\">\n",
       "  <thead>\n",
       "    <tr style=\"text-align: right;\">\n",
       "      <th></th>\n",
       "      <th>App</th>\n",
       "      <th>Package</th>\n",
       "      <th>Category</th>\n",
       "      <th>Description</th>\n",
       "      <th>Rating</th>\n",
       "      <th>Number of ratings</th>\n",
       "      <th>Price</th>\n",
       "      <th>Related apps</th>\n",
       "      <th>Dangerous permissions count</th>\n",
       "      <th>Safe permissions count</th>\n",
       "      <th>...</th>\n",
       "      <th>Your personal information : read Browser's history and bookmarks (D)</th>\n",
       "      <th>Your personal information : read calendar events (D)</th>\n",
       "      <th>Your personal information : read contact data (D)</th>\n",
       "      <th>Your personal information : read sensitive log data (D)</th>\n",
       "      <th>Your personal information : read user defined dictionary (D)</th>\n",
       "      <th>Your personal information : retrieve system internal state (S)</th>\n",
       "      <th>Your personal information : set alarm in alarm clock (S)</th>\n",
       "      <th>Your personal information : write Browser's history and bookmarks (D)</th>\n",
       "      <th>Your personal information : write contact data (D)</th>\n",
       "      <th>Your personal information : write to user defined dictionary (S)</th>\n",
       "    </tr>\n",
       "  </thead>\n",
       "  <tbody>\n",
       "    <tr>\n",
       "      <th>0</th>\n",
       "      <td>Google Maps</td>\n",
       "      <td>com.google.android.apps.maps</td>\n",
       "      <td>Travel &amp; Local</td>\n",
       "      <td>Download the latest release of Google Maps, an...</td>\n",
       "      <td>4.4</td>\n",
       "      <td>1438259</td>\n",
       "      <td>$0.00</td>\n",
       "      <td>{com.jsdfproductions.ctatrackerpro, com.alk.co...</td>\n",
       "      <td>17.0</td>\n",
       "      <td>8</td>\n",
       "      <td>...</td>\n",
       "      <td>0</td>\n",
       "      <td>0</td>\n",
       "      <td>1</td>\n",
       "      <td>0</td>\n",
       "      <td>0</td>\n",
       "      <td>0</td>\n",
       "      <td>0</td>\n",
       "      <td>0</td>\n",
       "      <td>1</td>\n",
       "      <td>0</td>\n",
       "    </tr>\n",
       "    <tr>\n",
       "      <th>1</th>\n",
       "      <td>Snowfall Live Wallpaper</td>\n",
       "      <td>fishnoodle.snowfall_free</td>\n",
       "      <td>Personalization</td>\n",
       "      <td>Snowfall Live Wallpaper: Wintertime on your ho...</td>\n",
       "      <td>4.3</td>\n",
       "      <td>18147</td>\n",
       "      <td>$0.00</td>\n",
       "      <td>{colfore.wallpaper.snowfree, com.tabsoft.wallp...</td>\n",
       "      <td>0.0</td>\n",
       "      <td>0</td>\n",
       "      <td>...</td>\n",
       "      <td>0</td>\n",
       "      <td>0</td>\n",
       "      <td>0</td>\n",
       "      <td>0</td>\n",
       "      <td>0</td>\n",
       "      <td>0</td>\n",
       "      <td>0</td>\n",
       "      <td>0</td>\n",
       "      <td>0</td>\n",
       "      <td>0</td>\n",
       "    </tr>\n",
       "    <tr>\n",
       "      <th>2</th>\n",
       "      <td>Aquarium Live Wallpaper</td>\n",
       "      <td>fishnoodle.aquarium_free</td>\n",
       "      <td>Personalization</td>\n",
       "      <td>A beautiful tropical fish tank live wallpaper!...</td>\n",
       "      <td>4.1</td>\n",
       "      <td>62145</td>\n",
       "      <td>$0.00</td>\n",
       "      <td>{com.convisual.lwp.fishometerlite, com.accessl...</td>\n",
       "      <td>0.0</td>\n",
       "      <td>0</td>\n",
       "      <td>...</td>\n",
       "      <td>0</td>\n",
       "      <td>0</td>\n",
       "      <td>0</td>\n",
       "      <td>0</td>\n",
       "      <td>0</td>\n",
       "      <td>0</td>\n",
       "      <td>0</td>\n",
       "      <td>0</td>\n",
       "      <td>0</td>\n",
       "      <td>0</td>\n",
       "    </tr>\n",
       "  </tbody>\n",
       "</table>\n",
       "<p>3 rows × 183 columns</p>\n",
       "</div>"
      ],
      "text/plain": [
       "                       App                       Package         Category  \\\n",
       "0              Google Maps  com.google.android.apps.maps   Travel & Local   \n",
       "1  Snowfall Live Wallpaper      fishnoodle.snowfall_free  Personalization   \n",
       "2  Aquarium Live Wallpaper      fishnoodle.aquarium_free  Personalization   \n",
       "\n",
       "                                         Description  Rating  \\\n",
       "0  Download the latest release of Google Maps, an...     4.4   \n",
       "1  Snowfall Live Wallpaper: Wintertime on your ho...     4.3   \n",
       "2  A beautiful tropical fish tank live wallpaper!...     4.1   \n",
       "\n",
       "   Number of ratings  Price  \\\n",
       "0            1438259  $0.00   \n",
       "1              18147  $0.00   \n",
       "2              62145  $0.00   \n",
       "\n",
       "                                        Related apps  \\\n",
       "0  {com.jsdfproductions.ctatrackerpro, com.alk.co...   \n",
       "1  {colfore.wallpaper.snowfree, com.tabsoft.wallp...   \n",
       "2  {com.convisual.lwp.fishometerlite, com.accessl...   \n",
       "\n",
       "   Dangerous permissions count  Safe permissions count  ...  \\\n",
       "0                         17.0                       8  ...   \n",
       "1                          0.0                       0  ...   \n",
       "2                          0.0                       0  ...   \n",
       "\n",
       "   Your personal information : read Browser's history and bookmarks (D)  \\\n",
       "0                                                  0                      \n",
       "1                                                  0                      \n",
       "2                                                  0                      \n",
       "\n",
       "   Your personal information : read calendar events (D)  \\\n",
       "0                                                  0      \n",
       "1                                                  0      \n",
       "2                                                  0      \n",
       "\n",
       "   Your personal information : read contact data (D)  \\\n",
       "0                                                  1   \n",
       "1                                                  0   \n",
       "2                                                  0   \n",
       "\n",
       "   Your personal information : read sensitive log data (D)  \\\n",
       "0                                                  0         \n",
       "1                                                  0         \n",
       "2                                                  0         \n",
       "\n",
       "   Your personal information : read user defined dictionary (D)  \\\n",
       "0                                                  0              \n",
       "1                                                  0              \n",
       "2                                                  0              \n",
       "\n",
       "   Your personal information : retrieve system internal state (S)  \\\n",
       "0                                                  0                \n",
       "1                                                  0                \n",
       "2                                                  0                \n",
       "\n",
       "   Your personal information : set alarm in alarm clock (S)  \\\n",
       "0                                                  0          \n",
       "1                                                  0          \n",
       "2                                                  0          \n",
       "\n",
       "   Your personal information : write Browser's history and bookmarks (D)  \\\n",
       "0                                                  0                       \n",
       "1                                                  0                       \n",
       "2                                                  0                       \n",
       "\n",
       "   Your personal information : write contact data (D)  \\\n",
       "0                                                  1    \n",
       "1                                                  0    \n",
       "2                                                  0    \n",
       "\n",
       "   Your personal information : write to user defined dictionary (S)  \n",
       "0                                                  0                 \n",
       "1                                                  0                 \n",
       "2                                                  0                 \n",
       "\n",
       "[3 rows x 183 columns]"
      ]
     },
     "execution_count": 50,
     "metadata": {},
     "output_type": "execute_result"
    }
   ],
   "source": [
    "df.head(n=3)"
   ]
  },
  {
   "cell_type": "markdown",
   "metadata": {},
   "source": [
    "### Part B: Convert each app into a \"document\" [0 points]\n",
    "\n",
    "The code below does the following:\n",
    "\n",
    "   * Filter out all the columns except the permission columns.\n",
    "   * Convert this dataframe into a numpy matrix.\n",
    "\n",
    "There are thus 180295 apps (documents) and 173 permissions (words).\n",
    "\n",
    "   - `X` is the \"document\" or \"word-frequency\" matrix.\n",
    "   - `permission_columns` contains the words ordered by their column index in X.\n",
    "   - `app_names` contains the application names ordered by their row index in X.\n",
    "   - `app_ratings` contains the *number* of application ratings (not the ratings themselves)."
   ]
  },
  {
   "cell_type": "code",
   "execution_count": 51,
   "metadata": {},
   "outputs": [],
   "source": [
    "permission_columns = list(df.columns[10:])\n",
    "app_names = list(df[\"App\"])\n",
    "app_ratings = np.array(df[\"Number of ratings\"])\n",
    "df_perms = df[permission_columns]\n",
    "X = df_perms.values\n",
    "#del df # uncomment to free up RAM\n",
    "#del df_perms # uncomment to free up RAM"
   ]
  },
  {
   "cell_type": "markdown",
   "metadata": {},
   "source": [
    "### Part C: Downweight \"stopwords\" [2.5 points]\n",
    "\n",
    "There are some permissions requested by almost all applications (like \"INTERNET\"), they are similar to stop-words (\"the\", \"and\", etc.) in natural language. We can downweight them by TF-IDF normalization.\n",
    "\n",
    "   * Use the `TfidfTransformer` class in `scikit-learn` to transform X."
   ]
  },
  {
   "cell_type": "code",
   "execution_count": 52,
   "metadata": {},
   "outputs": [],
   "source": [
    "########################################################################\n",
    "######################### Write your code here #########################\n",
    "########################################################################\n",
    "from sklearn.feature_extraction.text import TfidfTransformer\n",
    "tfidf=TfidfTransformer()\n",
    "X_tfidf = tfidf.fit_transform(X)"
   ]
  },
  {
   "cell_type": "markdown",
   "metadata": {},
   "source": [
    "### Part D: Discover 10 \"topics\" [2.5 points]\n",
    "\n",
    "   * Use the `LatentDirichletAllocation` class in `scikit-learn` to fit 10 topics to the data.\n",
    "   * Use 10 max iterations, set `n_jobs=-1` to use all cores on your machine (if it helps).\n",
    "   * Feel free to understand and play around with other parameters.\n",
    "   * This may take around 3 minutes to run."
   ]
  },
  {
   "cell_type": "code",
   "execution_count": 53,
   "metadata": {},
   "outputs": [
    {
     "name": "stdout",
     "output_type": "stream",
     "text": [
      "CPU times: user 2.28 s, sys: 281 ms, total: 2.56 s\n",
      "Wall time: 13.6 s\n"
     ]
    },
    {
     "data": {
      "text/html": [
       "<style>#sk-container-id-2 {color: black;}#sk-container-id-2 pre{padding: 0;}#sk-container-id-2 div.sk-toggleable {background-color: white;}#sk-container-id-2 label.sk-toggleable__label {cursor: pointer;display: block;width: 100%;margin-bottom: 0;padding: 0.3em;box-sizing: border-box;text-align: center;}#sk-container-id-2 label.sk-toggleable__label-arrow:before {content: \"▸\";float: left;margin-right: 0.25em;color: #696969;}#sk-container-id-2 label.sk-toggleable__label-arrow:hover:before {color: black;}#sk-container-id-2 div.sk-estimator:hover label.sk-toggleable__label-arrow:before {color: black;}#sk-container-id-2 div.sk-toggleable__content {max-height: 0;max-width: 0;overflow: hidden;text-align: left;background-color: #f0f8ff;}#sk-container-id-2 div.sk-toggleable__content pre {margin: 0.2em;color: black;border-radius: 0.25em;background-color: #f0f8ff;}#sk-container-id-2 input.sk-toggleable__control:checked~div.sk-toggleable__content {max-height: 200px;max-width: 100%;overflow: auto;}#sk-container-id-2 input.sk-toggleable__control:checked~label.sk-toggleable__label-arrow:before {content: \"▾\";}#sk-container-id-2 div.sk-estimator input.sk-toggleable__control:checked~label.sk-toggleable__label {background-color: #d4ebff;}#sk-container-id-2 div.sk-label input.sk-toggleable__control:checked~label.sk-toggleable__label {background-color: #d4ebff;}#sk-container-id-2 input.sk-hidden--visually {border: 0;clip: rect(1px 1px 1px 1px);clip: rect(1px, 1px, 1px, 1px);height: 1px;margin: -1px;overflow: hidden;padding: 0;position: absolute;width: 1px;}#sk-container-id-2 div.sk-estimator {font-family: monospace;background-color: #f0f8ff;border: 1px dotted black;border-radius: 0.25em;box-sizing: border-box;margin-bottom: 0.5em;}#sk-container-id-2 div.sk-estimator:hover {background-color: #d4ebff;}#sk-container-id-2 div.sk-parallel-item::after {content: \"\";width: 100%;border-bottom: 1px solid gray;flex-grow: 1;}#sk-container-id-2 div.sk-label:hover label.sk-toggleable__label {background-color: #d4ebff;}#sk-container-id-2 div.sk-serial::before {content: \"\";position: absolute;border-left: 1px solid gray;box-sizing: border-box;top: 0;bottom: 0;left: 50%;z-index: 0;}#sk-container-id-2 div.sk-serial {display: flex;flex-direction: column;align-items: center;background-color: white;padding-right: 0.2em;padding-left: 0.2em;position: relative;}#sk-container-id-2 div.sk-item {position: relative;z-index: 1;}#sk-container-id-2 div.sk-parallel {display: flex;align-items: stretch;justify-content: center;background-color: white;position: relative;}#sk-container-id-2 div.sk-item::before, #sk-container-id-2 div.sk-parallel-item::before {content: \"\";position: absolute;border-left: 1px solid gray;box-sizing: border-box;top: 0;bottom: 0;left: 50%;z-index: -1;}#sk-container-id-2 div.sk-parallel-item {display: flex;flex-direction: column;z-index: 1;position: relative;background-color: white;}#sk-container-id-2 div.sk-parallel-item:first-child::after {align-self: flex-end;width: 50%;}#sk-container-id-2 div.sk-parallel-item:last-child::after {align-self: flex-start;width: 50%;}#sk-container-id-2 div.sk-parallel-item:only-child::after {width: 0;}#sk-container-id-2 div.sk-dashed-wrapped {border: 1px dashed gray;margin: 0 0.4em 0.5em 0.4em;box-sizing: border-box;padding-bottom: 0.4em;background-color: white;}#sk-container-id-2 div.sk-label label {font-family: monospace;font-weight: bold;display: inline-block;line-height: 1.2em;}#sk-container-id-2 div.sk-label-container {text-align: center;}#sk-container-id-2 div.sk-container {/* jupyter's `normalize.less` sets `[hidden] { display: none; }` but bootstrap.min.css set `[hidden] { display: none !important; }` so we also need the `!important` here to be able to override the default hidden behavior on the sphinx rendered scikit-learn.org. See: https://github.com/scikit-learn/scikit-learn/issues/21755 */display: inline-block !important;position: relative;}#sk-container-id-2 div.sk-text-repr-fallback {display: none;}</style><div id=\"sk-container-id-2\" class=\"sk-top-container\"><div class=\"sk-text-repr-fallback\"><pre>LatentDirichletAllocation(n_jobs=-1, random_state=0)</pre><b>In a Jupyter environment, please rerun this cell to show the HTML representation or trust the notebook. <br />On GitHub, the HTML representation is unable to render, please try loading this page with nbviewer.org.</b></div><div class=\"sk-container\" hidden><div class=\"sk-item\"><div class=\"sk-estimator sk-toggleable\"><input class=\"sk-toggleable__control sk-hidden--visually\" id=\"sk-estimator-id-2\" type=\"checkbox\" checked><label for=\"sk-estimator-id-2\" class=\"sk-toggleable__label sk-toggleable__label-arrow\">LatentDirichletAllocation</label><div class=\"sk-toggleable__content\"><pre>LatentDirichletAllocation(n_jobs=-1, random_state=0)</pre></div></div></div></div></div>"
      ],
      "text/plain": [
       "LatentDirichletAllocation(n_jobs=-1, random_state=0)"
      ]
     },
     "execution_count": 53,
     "metadata": {},
     "output_type": "execute_result"
    }
   ],
   "source": [
    "%%time\n",
    "########################################################################\n",
    "######################### Write your code here #########################\n",
    "########################################################################\n",
    "num_topics = 10\n",
    "\n",
    "from sklearn.decomposition import LatentDirichletAllocation\n",
    "lda = LatentDirichletAllocation(n_components=num_topics,\\\n",
    "                                max_iter=10,n_jobs=-1,random_state=0)\n",
    "lda.fit(X_tfidf)"
   ]
  },
  {
   "cell_type": "markdown",
   "metadata": {},
   "source": [
    "Now each app can be viewed as a distribution over these 10 topics, and each topic is a distribution over all the permissions in the data."
   ]
  },
  {
   "cell_type": "markdown",
   "metadata": {},
   "source": [
    "### Part E: List the top 10 \"words\" in each topic [15 points]\n",
    "\n",
    "Do any of the topics correspond to meaningful app \"purposes\"? List the ones you find meaningful below:\n",
    "\n",
    "   * Topic #i: \"your interpretation\""
   ]
  },
  {
   "cell_type": "code",
   "execution_count": 61,
   "metadata": {},
   "outputs": [
    {
     "name": "stdout",
     "output_type": "stream",
     "text": [
      "Topic #0:\n",
      "Your location : coarse (network-based) location (D)\n",
      "Your location : fine (GPS) location (D)\n",
      "Network communication : full Internet access (D)\n",
      "Network communication : view network state (S)\n",
      "Phone calls : read phone state and identity (D)\n",
      "Storage : modify/delete USB storage contents modify/delete SD card contents (D)\n",
      "Services that cost you money : directly call phone numbers (D)\n",
      "Your personal information : read sensitive log data (D)\n",
      "Network communication : view Wi-Fi state (S)\n",
      "Default : access checkin properties (S)\n",
      "\n",
      "Topic #1:\n",
      "Hardware controls : control vibrator (S)\n",
      "Network communication : full Internet access (D)\n",
      "Network communication : view network state (S)\n",
      "Storage : modify/delete USB storage contents modify/delete SD card contents (D)\n",
      "System tools : disable keylock (D)\n",
      "Phone calls : read phone state and identity (D)\n",
      "System tools : prevent device from sleeping (D)\n",
      "Hardware controls : change your audio settings (D)\n",
      "Default : modify battery statistics (S)\n",
      "System tools : modify global system settings (D)\n",
      "\n",
      "Topic #2:\n",
      "Network communication : full Internet access (D)\n",
      "Network communication : view network state (S)\n",
      "Your accounts : Google Finance (D)\n",
      "Your personal information : read contact data (D)\n",
      "System tools : modify global system settings (D)\n",
      "Your accounts : view configured accounts (S)\n",
      "Your accounts : discover known accounts (S)\n",
      "Services that cost you money : send SMS messages (D)\n",
      "Your accounts : use the authentication credentials of an account (D)\n",
      "Your messages : receive SMS (D)\n",
      "\n",
      "Topic #3:\n",
      "Your accounts : discover known accounts (S)\n",
      "Default : directly install applications (S)\n",
      "Your accounts : use the authentication credentials of an account (D)\n",
      "Storage : modify/delete USB storage contents modify/delete SD card contents (D)\n",
      "Network communication : view network state (S)\n",
      "System tools : prevent device from sleeping (D)\n",
      "Network communication : full Internet access (D)\n",
      "Your accounts : manage the accounts list (D)\n",
      "Default : delete applications (S)\n",
      "Phone calls : read phone state and identity (D)\n",
      "\n",
      "Topic #4:\n",
      "System tools : prevent device from sleeping (D)\n",
      "Network communication : full Internet access (D)\n",
      "System tools : automatically start at boot (S)\n",
      "Storage : modify/delete USB storage contents modify/delete SD card contents (D)\n",
      "Network communication : view network state (S)\n",
      "Phone calls : read phone state and identity (D)\n",
      "Hardware controls : control vibrator (S)\n",
      "System tools : change your UI settings (D)\n",
      "System tools : set wallpaper size hints (S)\n",
      "System tools : set wallpaper (S)\n",
      "\n",
      "Topic #5:\n",
      "Storage : modify/delete USB storage contents modify/delete SD card contents (D)\n",
      "System tools : set wallpaper (S)\n",
      "Network communication : full Internet access (D)\n",
      "Network communication : view network state (S)\n",
      "Phone calls : read phone state and identity (D)\n",
      "System tools : mount and unmount filesystems (D)\n",
      "Default : bind to a wallpaper (S)\n",
      "Default : write instant messages (S)\n",
      "Default : read instant messages (S)\n",
      "Hardware controls : take pictures and videos (D)\n",
      "\n",
      "Topic #6:\n",
      "Hardware controls : take pictures and videos (D)\n",
      "Hardware controls : record audio (D)\n",
      "Storage : modify/delete USB storage contents modify/delete SD card contents (D)\n",
      "Your location : fine (GPS) location (D)\n",
      "Your location : coarse (network-based) location (D)\n",
      "Network communication : full Internet access (D)\n",
      "Network communication : view network state (S)\n",
      "Hardware controls : control vibrator (S)\n",
      "Your location : access extra location provider commands (S)\n",
      "Phone calls : read phone state and identity (D)\n",
      "\n",
      "Topic #7:\n",
      "Network communication : view Wi-Fi state (S)\n",
      "Phone calls : read phone state and identity (D)\n",
      "Network communication : view network state (S)\n",
      "Network communication : full Internet access (D)\n",
      "Storage : modify/delete USB storage contents modify/delete SD card contents (D)\n",
      "System tools : change Wi-Fi state (D)\n",
      "Network communication : create Bluetooth connections (D)\n",
      "System tools : bluetooth administration (D)\n",
      "System tools : change network connectivity (D)\n",
      "System tools : allow Wi-Fi Multicast reception (D)\n",
      "\n",
      "Topic #8:\n",
      "System tools : retrieve running applications (D)\n",
      "Phone calls : read phone state and identity (D)\n",
      "Services that cost you money : directly call phone numbers (D)\n",
      "Network communication : view network state (S)\n",
      "Network communication : receive data from Internet (S)\n",
      "Network communication : full Internet access (D)\n",
      "Storage : modify/delete USB storage contents modify/delete SD card contents (D)\n",
      "System tools : prevent device from sleeping (D)\n",
      "Hardware controls : control vibrator (S)\n",
      "Your location : fine (GPS) location (D)\n",
      "\n",
      "Topic #9:\n",
      "Your personal information : read contact data (D)\n",
      "Services that cost you money : send SMS messages (D)\n",
      "System tools : modify global system settings (D)\n",
      "Phone calls : read phone state and identity (D)\n",
      "Your messages : receive SMS (D)\n",
      "Network communication : full Internet access (D)\n",
      "Your personal information : write contact data (D)\n",
      "Your messages : read SMS or MMS (D)\n",
      "Phone calls : intercept outgoing calls (D)\n",
      "System tools : automatically start at boot (S)\n",
      "\n"
     ]
    }
   ],
   "source": [
    "########################################################################\n",
    "######################### Write your code here #########################\n",
    "########################################################################\n",
    "num_top_words = 10  # Number of top words to list for each topic\n",
    "\n",
    "topic_word_distributions = lda.components_\n",
    "\n",
    "for i, topic_dist in enumerate(topic_word_distributions):\n",
    "    top_words_indices = topic_dist.argsort()[::-1][:num_top_words]\n",
    "    top_words = [permission_columns[idx] for idx in \\\n",
    "                 top_words_indices]\n",
    "    \n",
    "    # Print the topic number and its top words on separate lines\n",
    "    print(f\"Topic #{i}:\")\n",
    "    for word in top_words:\n",
    "        print(word)\n",
    "    print() "
   ]
  },
  {
   "cell_type": "markdown",
   "metadata": {},
   "source": [
    "*** WRITE YOUR ANSWER HERE IN TEXT ***\n",
    "\n",
    "Here are interpretations for each of the 10 topics based on the top 10 permissions (words) in each topic:\n",
    "\n",
    "Topic #0: Location and Network Access\n",
    "\n",
    "1. This topic appears to be related to apps that require location access (both coarse and fine), full internet access, phone state and identity access, storage modification, and the ability to make phone calls and access sensitive log data. \n",
    "2. Apps in this category might involve functionalities related to location-based services, network communication, data storage, and possibly services that involve phone call functionality.\n",
    "\n",
    "Topic #1: Device Control and Connectivity\n",
    "\n",
    "1. This topic seems to be related to apps that have permissions to control hardware features such as the vibrator and audio settings, access the internet (full internet access), view network state, modify storage (USB and SD card contents), and interact with system tools.\n",
    "2. Apps in this category might involve functionalities related to controlling and customizing device hardware, managing network connectivity, and modifying system settings.\n",
    "3. The permissions related to phone calls and reading phone state and identity may indicate that these apps may have some call-related or device identification features.\n",
    "4. The presence of permissions related to preventing the device from sleeping suggests that these apps may involve tasks that require the device to remain active.\n",
    "\n",
    "Topic #2: Account Management and Communication\n",
    "\n",
    "1. This topic appears to be related to apps that involve network communication with full internet access and the ability to view network state.\n",
    "2. It includes permissions related to managing user accounts, particularly Google Finance accounts, and accessing personal information such as reading contact data.\n",
    "3. Apps in this category may also have permissions to modify global system settings and use authentication credentials of user accounts.\n",
    "4. The presence of permissions related to sending SMS messages and receiving SMS suggests that these apps may be involved in communication and possibly financial or account-related transactions.\n",
    "\n",
    "Topic #3: Account Management and App Control\n",
    "\n",
    "1. This topic relates to apps focused on account management, including discovering known accounts and using authentication credentials.\n",
    "2. These apps may also have permissions for installing other applications and managing user accounts.\n",
    "3. They have broader system-level access with permissions for storage modification, network communication, and system control.\n",
    "4. Access to phone state and identity suggests they may have some phone-related features.\n",
    "\n",
    "Topic #4: System Control and Connectivity\n",
    "\n",
    "1. This topic is related to apps focused on controlling the device and ensuring network connectivity.\n",
    "2. Permissions include preventing the device from sleeping, full internet access, and starting at boot.\n",
    "3. Apps may also have control over storage, phone state, hardware features (vibrator), and UI settings, including wallpaper management.\n",
    "\n",
    "Topic #5: Multimedia and Storage\n",
    "\n",
    "1. This topic relates to apps that focus on multimedia functions, storage modification, and network connectivity.\n",
    "2. Permissions include modifying storage (USB and SD card contents), taking pictures and videos, and accessing phone state and identity.\n",
    "3. Apps may also interact with system tools for setting wallpapers, managing filesystems, and handling instant messaging.\n",
    "\n",
    "Topic #6: Multimedia, Location, and Hardware Control\n",
    "\n",
    "1. This topic is related to apps that primarily focus on multimedia functions, location access, and hardware control.\n",
    "2. Permissions include taking pictures and videos, recording audio, modifying storage, and accessing location data (fine and coarse).\n",
    "3. Apps may also have full internet access, control hardware features like the vibrator, and interact with phone state and identity.\n",
    "4. Access to extra location provider commands suggests advanced location-related functionality.\n",
    "\n",
    "Topic #7: Network and Connectivity\n",
    "\n",
    "1. This topic is related to apps that focus on network communication and connectivity management.\n",
    "2. Permissions include viewing Wi-Fi and network state, full internet access, and creating Bluetooth connections.\n",
    "3. Apps may also interact with phone state and identity and have control over storage.\n",
    "4. System-level tools for changing Wi-Fi and network settings, as well as Bluetooth administration and Wi-Fi multicast reception, indicate connectivity management.\n",
    "\n",
    "Topic #8: Device Information and Connectivity\n",
    "\n",
    "1. This topic is related to apps that focus on retrieving device information and connectivity.\n",
    "2. Permissions include accessing running applications, phone state and identity, directly calling phone numbers, and full internet access.\n",
    "3. Apps may also interact with network state, receive data from the internet, modify storage, and control system functions.\n",
    "4. Access to hardware controls like the vibrator and fine GPS location indicates potential device control and location-based features.\n",
    "\n",
    "Topic #9: Personal Information and Communication\n",
    "\n",
    "1. This topic is related to apps that focus on accessing personal information, communication, and system control.\n",
    "2. Permissions include reading and writing contact data, sending SMS messages, receiving SMS messages, and intercepting outgoing calls.\n",
    "3. Apps may also have full internet access, read phone state and identity, and modify global system settings.\n",
    "4. The ability to automatically start at boot suggests system-level control."
   ]
  },
  {
   "cell_type": "markdown",
   "metadata": {},
   "source": [
    "### Part F: For each topic, list the top 3 apps with at least 100000 ratings having the highest probability assigned to that topic [15 points]\n",
    "\n",
    "   - This further helps us understand what the topics actually mean.\n",
    "   - However, the data is noisy and this exercise may result in listing a bunch of obscure apps.\n",
    "   - Hence, filtering out all apps with less than 100000 ratings may help."
   ]
  },
  {
   "cell_type": "code",
   "execution_count": 56,
   "metadata": {},
   "outputs": [
    {
     "name": "stdout",
     "output_type": "stream",
     "text": [
      "Topic #0:\n",
      "App: Road Fighter, Probability: 0.7619\n",
      "App: family doctor, Probability: 0.7619\n",
      "App: Sex and love, Probability: 0.7619\n",
      "\n",
      "Topic #1:\n",
      "App: Chaos.Theory, Probability: 0.7613\n",
      "App: Punk Ball, Probability: 0.7613\n",
      "App: Cross Fingers, Probability: 0.7613\n",
      "\n",
      "Topic #2:\n",
      "App: Custom Action Tap, Probability: 0.6247\n",
      "App: BERONCHO CHAMELEON, Probability: 0.6247\n",
      "App: The Sun Sets At Dawn Movie, Probability: 0.6247\n",
      "\n",
      "Topic #3:\n",
      "App: CC switch widget, Probability: 0.8650\n",
      "App: Sprite Backup, Probability: 0.8639\n",
      "App: Optimize Tool Box Lite version, Probability: 0.8614\n",
      "\n",
      "Topic #4:\n",
      "App: Manchester City Fan Talk Live, Probability: 0.7678\n",
      "App: Wigan Athletic Fan Talk Live, Probability: 0.7678\n",
      "App: Wigan Athletic Fan Club Live, Probability: 0.7678\n",
      "\n",
      "Topic #5:\n",
      "App: Kabegami.com, Probability: 0.7186\n",
      "App: butterfly wallpapers, Probability: 0.7081\n",
      "App: droiDoodle, Probability: 0.7081\n",
      "\n",
      "Topic #6:\n",
      "App: Corona Beach Break, Probability: 0.8170\n",
      "App: Talking Pong Pig Free, Probability: 0.8158\n",
      "App: app???lab, Probability: 0.8128\n",
      "\n",
      "Topic #7:\n",
      "App: 9mm HD, Probability: 0.7675\n",
      "App: BlueMuze (Trial), Probability: 0.7671\n",
      "App: BlueMuze, Probability: 0.7671\n",
      "\n",
      "Topic #8:\n",
      "App: TOEIC Daily, Probability: 0.7962\n",
      "App: SK Wyverns, Probability: 0.7962\n",
      "App: United Airlines, Probability: 0.7923\n",
      "\n",
      "Topic #9:\n",
      "App: A fastest SMS app, Probability: 0.8325\n",
      "App: AT&T DriveMode, Probability: 0.8289\n",
      "App: StartTalking, Probability: 0.8271\n",
      "\n"
     ]
    }
   ],
   "source": [
    "########################################################################\n",
    "######################### Write your code here #########################\n",
    "########################################################################\n",
    "\n",
    "# Create an empty dictionary to store the top apps for each topic\n",
    "top_apps_by_topic = {i: [] for i in range(num_topics)}\n",
    "\n",
    "topic_probabilities = lda.transform(X_tfidf)\n",
    "\n",
    "for i in range(num_topics):\n",
    "    top_apps_indices = np.where(app_ratings >= 100000)[0]\n",
    "    top_apps_indices = np.argsort(topic_probabilities[:, i])[::-1]\n",
    "    top_apps_indices = [idx for idx in top_apps_indices\\\n",
    "                        if idx in top_apps_indices][:3]  \n",
    "    \n",
    "    for app_idx in top_apps_indices:\n",
    "        app_name = app_names[app_idx]\n",
    "        app_probability = topic_probabilities[app_idx, i]\n",
    "        top_apps_by_topic[i].append((app_name, app_probability))\n",
    "\n",
    "# Print the top 3 apps for each topic\n",
    "for i in range(num_topics):\n",
    "    print(f\"Topic #{i}:\")\n",
    "    for app_name, app_probability in top_apps_by_topic[i]:\n",
    "        print(f\"App: {app_name}, Probability: {app_probability:.4f}\")\n",
    "    print()"
   ]
  },
  {
   "cell_type": "markdown",
   "metadata": {},
   "source": [
    "### Part G: Visualize the document-topic proportion matrix in 2-D using t-SNE [10 points]\n",
    "\n",
    "Does our reduced dimensional space contain any structure? Visualize the documents (in the topic-space) using t-SNE.\n",
    "\n",
    "   * Use `TSNE` from `scikit-learn`.\n",
    "   * Set the angle to 0.99 and init to 'PCA'. Pick any learning rate that gives you a visually pleasing result.\n",
    "   * You may `fit` TSNE to a sample of the data (>1000 documents) instead of the full data.\n",
    "   * Remember to call `fit_transform` to obtain your 2-D data.\n",
    "   * Plot the t-SNE dimensions as a scatterplot.\n",
    "   * Color each point based on its most probable topic. Make sure you include a legend (10 colors).\n",
    "   \n",
    "Clusters in the t-SNE plot indicate groups of apps that have similar topics."
   ]
  },
  {
   "cell_type": "code",
   "execution_count": 62,
   "metadata": {
    "scrolled": true
   },
   "outputs": [
    {
     "name": "stdout",
     "output_type": "stream",
     "text": [
      "CPU times: user 39min 46s, sys: 11min 23s, total: 51min 10s\n",
      "Wall time: 7min 3s\n"
     ]
    },
    {
     "data": {
      "text/plain": [
       "(-62.70496139526367, 50.8590446472168, -59.58664722442627, 58.98755283355713)"
      ]
     },
     "execution_count": 62,
     "metadata": {},
     "output_type": "execute_result"
    },
    {
     "data": {
      "image/png": "[encoded data removed]",
      "text/plain": [
       "<Figure size 800x400 with 1 Axes>"
      ]
     },
     "metadata": {},
     "output_type": "display_data"
    }
   ],
   "source": [
    "%%time\n",
    "########################################################################\n",
    "######################### Write your code here #########################\n",
    "########################################################################\n",
    "from sklearn.manifold import TSNE\n",
    "from sklearn.cluster import KMeans\n",
    "\n",
    "kmeans = KMeans(n_clusters=num_topics, n_init=1000, random_state=0)\n",
    "kmeans.fit(topic_probabilities)\n",
    "kmeans_cluster_assignments = kmeans.predict(topic_probabilities)\n",
    "\n",
    "tsne = TSNE(n_components=2, random_state=0,  angle=0.99, \\\n",
    "            init='pca',learning_rate=200) \n",
    "X_tsne2d = tsne.fit_transform(topic_probabilities)\n",
    "\n",
    "plt.figure(figsize=(8, 4))\n",
    "plt.scatter(X_tsne2d[:, 0], X_tsne2d[:, 1],\\\n",
    "            c=kmeans_cluster_assignments, cmap='Set1')\n",
    "plt.title(\"t-SNE Visualization of Document-Topic Proportions\")\n",
    "plt.xlabel(\"t-SNE Dimension 1\")\n",
    "plt.ylabel(\"t-SNE Dimension 2\")\n",
    "plt.axis('equal')"
   ]
  },
  {
   "cell_type": "markdown",
   "metadata": {},
   "source": [
    "## Question 3: Questionnaire [5 points]\n",
    "\n",
    "Please answer this survey after you have done this homework: https://forms.gle/8i5htD6oXMr1nK958"
   ]
  }
 ],
 "metadata": {
  "kernelspec": {
   "display_name": "Python 3 (ipykernel)",
   "language": "python",
   "name": "python3"
  },
  "language_info": {
   "codemirror_mode": {
    "name": "ipython",
    "version": 3
   },
   "file_extension": ".py",
   "mimetype": "text/x-python",
   "name": "python",
   "nbconvert_exporter": "python",
   "pygments_lexer": "ipython3",
   "version": "3.11.4"
  }
 },
 "nbformat": 4,
 "nbformat_minor": 2
}
